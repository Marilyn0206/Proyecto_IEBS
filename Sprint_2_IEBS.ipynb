{
 "cells": [
  {
   "cell_type": "markdown",
   "id": "27cee83b",
   "metadata": {},
   "source": [
    "# Sprint 2"
   ]
  },
  {
   "cell_type": "markdown",
   "id": "be01dd2d",
   "metadata": {},
   "source": [
    "### Pregunta 1"
   ]
  },
  {
   "cell_type": "code",
   "execution_count": 14,
   "id": "a2a09eaa",
   "metadata": {},
   "outputs": [
    {
     "name": "stdout",
     "output_type": "stream",
     "text": [
      "45\n"
     ]
    }
   ],
   "source": [
    "import csv\n",
    "\n",
    "with open ('clase_2_final.csv') as csvfile:\n",
    "    csv_reader = csv.reader(csvfile, delimiter=';' )\n",
    "    count = 0\n",
    "    count_trips = 0\n",
    "    taxi_ids = []\n",
    "    for row in csv_reader:\n",
    "        if count == 0:\n",
    "            count = count + 1\n",
    "            continue\n",
    "        if float(row[14]) > 20 and float(row[14]) < 44 and (row [15]) == \"Credit Card\":\n",
    "            if row[1] not in taxi_ids:\n",
    "                count_trips = count_trips + 1\n",
    "                taxi_ids.append(row[1])\n",
    "        \n",
    "    print(count_trips)\n",
    "    \n",
    "\n",
    "    "
   ]
  },
  {
   "cell_type": "code",
   "execution_count": 16,
   "id": "17808cde",
   "metadata": {
    "scrolled": false
   },
   "outputs": [
    {
     "name": "stdout",
     "output_type": "stream",
     "text": [
      "0\n"
     ]
    }
   ],
   "source": [
    "import csv\n",
    "\n",
    "with open ('clase_2_final.csv') as csvfile:\n",
    "    csv_reader = csv.reader(csvfile, delimiter=';' )\n",
    "    count = 0\n",
    "    count_trips = 0\n",
    "    taxi_ids = []\n",
    "    for row in csv_reader:\n",
    "        if count == 0:\n",
    "            count = count + 1\n",
    "            continue\n",
    "        if float(row[13]) > 60 and float(row[13]) < 10 and (row [15]) == \"Cash\":\n",
    "            if row[1] not in taxi_ids:\n",
    "                count_trips = count_trips + 1\n",
    "                taxi_ids.append(row[1])\n",
    "    print(count_trips)"
   ]
  },
  {
   "cell_type": "code",
   "execution_count": null,
   "id": "b707150b",
   "metadata": {},
   "outputs": [],
   "source": []
  },
  {
   "cell_type": "code",
   "execution_count": null,
   "id": "eeda3d85",
   "metadata": {},
   "outputs": [],
   "source": []
  },
  {
   "cell_type": "code",
   "execution_count": null,
   "id": "17b19a52",
   "metadata": {},
   "outputs": [],
   "source": []
  }
 ],
 "metadata": {
  "kernelspec": {
   "display_name": "Python 3 (ipykernel)",
   "language": "python",
   "name": "python3"
  },
  "language_info": {
   "codemirror_mode": {
    "name": "ipython",
    "version": 3
   },
   "file_extension": ".py",
   "mimetype": "text/x-python",
   "name": "python",
   "nbconvert_exporter": "python",
   "pygments_lexer": "ipython3",
   "version": "3.9.12"
  }
 },
 "nbformat": 4,
 "nbformat_minor": 5
}
